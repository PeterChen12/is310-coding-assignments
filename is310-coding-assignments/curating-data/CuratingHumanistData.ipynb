{
 "cells": [
  {
   "cell_type": "code",
   "execution_count": 4,
   "metadata": {},
   "outputs": [],
   "source": [
    "import pandas as pd\n",
    "import requests\n",
    "from bs4 import BeautifulSoup"
   ]
  },
  {
   "cell_type": "code",
   "execution_count": 5,
   "metadata": {},
   "outputs": [],
   "source": [
    "url = 'https://humanist.kdl.kcl.ac.uk/Archives/'\n",
    "response = requests.get(url)\n",
    "soup = BeautifulSoup(response.text, features=\"html.parser\")"
   ]
  },
  {
   "cell_type": "code",
   "execution_count": 6,
   "metadata": {},
   "outputs": [],
   "source": [
    "base_url = 'https://humanist.kdl.kcl.ac.uk/Archives/'\n",
    "volume_links = [a['href'] for a in soup.find_all('a', href=True) if \"humanist\" in a['href']]"
   ]
  },
  {
   "cell_type": "code",
   "execution_count": 7,
   "metadata": {},
   "outputs": [],
   "source": [
    "data = []"
   ]
  },
  {
   "cell_type": "code",
   "execution_count": 8,
   "metadata": {},
   "outputs": [],
   "source": [
    "for rel_link in volume_links:\n",
    "    full_url = base_url + rel_link\n",
    "    response = requests.get(full_url)\n",
    "    soup = BeautifulSoup(response.text, features=\"html.parser\")\n",
    "    for link in soup.find_all('a', href=True):\n",
    "        if \"humanist\" in link.get('href'):\n",
    "            volume_url = base_url + link.get('href')\n",
    "            volume_response = requests.get(volume_url)\n",
    "            volume_soup = BeautifulSoup(volume_response.text, \"html.parser\")\n",
    "            data.append([link.get_text(), volume_soup.get_text()[:10000]])\n"
   ]
  },
  {
   "cell_type": "code",
   "execution_count": 9,
   "metadata": {},
   "outputs": [
    {
     "name": "stdout",
     "output_type": "stream",
     "text": [
      "Empty DataFrame\n",
      "Columns: [Link, Volume Text]\n",
      "Index: []\n"
     ]
    }
   ],
   "source": [
    "df = pd.DataFrame(data, columns=['Link', 'Volume Text'])\n",
    "df.to_csv(\"web_scraped_humanist_listserv.csv\", index=False)\n",
    "print(df.head())"
   ]
  }
 ],
 "metadata": {
  "kernelspec": {
   "display_name": "is310-venv",
   "language": "python",
   "name": "is310-venv"
  },
  "language_info": {
   "codemirror_mode": {
    "name": "ipython",
    "version": 3
   },
   "file_extension": ".py",
   "mimetype": "text/x-python",
   "name": "python",
   "nbconvert_exporter": "python",
   "pygments_lexer": "ipython3",
   "version": "3.10.12"
  }
 },
 "nbformat": 4,
 "nbformat_minor": 4
}
