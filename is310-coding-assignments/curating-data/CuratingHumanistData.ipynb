{
 "cells": [
  {
   "cell_type": "code",
   "execution_count": 1,
   "metadata": {},
   "outputs": [],
   "source": [
    "import pandas as pd\n",
    "import requests\n",
    "from bs4 import BeautifulSoup"
   ]
  },
  {
   "cell_type": "code",
   "execution_count": 4,
   "metadata": {},
   "outputs": [
    {
     "name": "stdout",
     "output_type": "stream",
     "text": [
      "Error fetching data: 502 Server Error: connect failed for url: https://humanist.kdl.kcl.ac.uk/Archives/\n"
     ]
    }
   ],
   "source": [
    "url = 'https://humanist.kdl.kcl.ac.uk/Archives/'\n",
    "response = requests.get(url)\n",
    "soup = BeautifulSoup(response.text, features=\"html.parser\")"
   ]
  },
  {
   "cell_type": "code",
   "execution_count": 13,
   "metadata": {},
   "outputs": [],
   "source": [
    "base_url = 'https://humanist.kdl.kcl.ac.uk/Archives/'\n",
    "volume_links = [a['href'] for a in soup.find_all('a', href=True) if \"humanist\" in a['href']]"
   ]
  },
  {
   "cell_type": "code",
   "execution_count": 14,
   "metadata": {},
   "outputs": [
    {
     "name": "stdout",
     "output_type": "stream",
     "text": [
      "No main links found.\n"
     ]
    }
   ],
   "source": [
    "data = []"
   ]
  },
  {
   "cell_type": "code",
   "execution_count": null,
   "metadata": {},
   "outputs": [],
   "source": [
    "for rel_link in volume_links:\n",
    "    full_url = base_url + rel_link\n",
    "    response = requests.get(full_url)\n",
    "    soup = BeautifulSoup(response.text, features=\"html.parser\")\n",
    "    for link in soup.find_all('a', href=True):\n",
    "        if \"humanist\" in link.get('href'):\n",
    "            volume_url = base_url + link.get('href')\n",
    "            volume_response = requests.get(volume_url)\n",
    "            volume_soup = BeautifulSoup(volume_response.text, \"html.parser\")\n",
    "            data.append([link.get_text(), volume_soup.get_text()[:10000]])\n"
   ]
  },
  {
   "cell_type": "code",
   "execution_count": 15,
   "metadata": {},
   "outputs": [
    {
     "ename": "IndexError",
     "evalue": "list index out of range",
     "output_type": "error",
     "traceback": [
      "\u001b[0;31m---------------------------------------------------------------------------\u001b[0m",
      "\u001b[0;31mIndexError\u001b[0m                                Traceback (most recent call last)",
      "Cell \u001b[0;32mIn[15], line 2\u001b[0m\n\u001b[1;32m      1\u001b[0m \u001b[38;5;28;01mif\u001b[39;00m \u001b[38;5;18m__name__\u001b[39m \u001b[38;5;241m==\u001b[39m \u001b[38;5;124m\"\u001b[39m\u001b[38;5;124m__main__\u001b[39m\u001b[38;5;124m\"\u001b[39m:\n\u001b[0;32m----> 2\u001b[0m     \u001b[43mmain\u001b[49m\u001b[43m(\u001b[49m\u001b[43m)\u001b[49m\n",
      "Cell \u001b[0;32mIn[5], line 6\u001b[0m, in \u001b[0;36mmain\u001b[0;34m()\u001b[0m\n\u001b[1;32m      3\u001b[0m main_links \u001b[38;5;241m=\u001b[39m fetch_links(BASE_URL)\n\u001b[1;32m      5\u001b[0m \u001b[38;5;66;03m# Fetch archive links\u001b[39;00m\n\u001b[0;32m----> 6\u001b[0m archive_url \u001b[38;5;241m=\u001b[39m BASE_URL \u001b[38;5;241m+\u001b[39m \u001b[43mmain_links\u001b[49m\u001b[43m[\u001b[49m\u001b[38;5;241;43m0\u001b[39;49m\u001b[43m]\u001b[49m\n\u001b[1;32m      7\u001b[0m archive_links \u001b[38;5;241m=\u001b[39m fetch_links(archive_url)\n\u001b[1;32m      8\u001b[0m fetch_text_and_write_to_csv(archive_links, \u001b[38;5;124m'\u001b[39m\u001b[38;5;124marchive_data.csv\u001b[39m\u001b[38;5;124m'\u001b[39m, years_index\u001b[38;5;241m=\u001b[39m\u001b[38;5;28;01mTrue\u001b[39;00m)\n",
      "\u001b[0;31mIndexError\u001b[0m: list index out of range"
     ]
    }
   ],
   "source": [
    "df = pd.DataFrame(data, columns=['Link', 'Volume Text'])\n",
    "df.to_csv(\"web_scraped_humanist_listserv.csv\", index=False)\n",
    "print(df.head())"
   ]
  }
 ],
 "metadata": {
  "kernelspec": {
   "display_name": "Python 3 (ipykernel)",
   "language": "python",
   "name": "python3"
  },
  "language_info": {
   "codemirror_mode": {
    "name": "ipython",
    "version": 3
   },
   "file_extension": ".py",
   "mimetype": "text/x-python",
   "name": "python",
   "nbconvert_exporter": "python",
   "pygments_lexer": "ipython3",
   "version": "3.10.12"
  }
 },
 "nbformat": 4,
 "nbformat_minor": 4
}
