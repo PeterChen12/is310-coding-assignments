{
 "cells": [
  {
   "cell_type": "code",
   "execution_count": null,
   "metadata": {},
   "outputs": [],
   "source": [
    "import pandas as pd\n",
    "import requests\n",
    "from bs4 import BeautifulSoup\n",
    "import csv"
   ]
  },
  {
   "cell_type": "code",
   "execution_count": null,
   "metadata": {},
   "outputs": [],
   "source": [
    "url = 'https://humanist.kdl.kcl.ac.uk/Archives/'\n",
    "response = requests.get(url)\n",
    "soup = BeautifulSoup(response.text, features=\"html.parser\")"
   ]
  },
  {
   "cell_type": "code",
   "execution_count": null,
   "metadata": {},
   "outputs": [],
   "source": [
    "base_url = 'https://humanist.kdl.kcl.ac.uk/Archives/'\n",
    "volume_links = [a['href'] for a in soup.find_all('a', href=True) if \"humanist\" in a['href']]"
   ]
  },
  {
   "cell_type": "code",
   "execution_count": null,
   "metadata": {},
   "outputs": [],
   "source": [
    "data = []\n",
    "for rel_link in volume_links:\n",
    "    full_url = base_url + rel_link\n",
    "    response = session.get(full_url)\n",
    "    soup = BeautifulSoup(response.text, features=\"html.parser\")"
   ]
  },
  {
   "cell_type": "code",
   "execution_count": null,
   "metadata": {},
   "outputs": [],
   "source": [
    "for link in soup.find_all('a', href=True):\n",
    "        if \"humanist\" in link.get('href'):\n",
    "            volume_url = base_url + link.get('href')\n",
    "            volume_response = session.get(volume_url)\n",
    "            volume_soup = BeautifulSoup(volume_response.text, \"html.parser\")\n",
    "            data.append([link.get_text(), volume_soup.get_text()[:10000]])"
   ]
  },
  {
   "cell_type": "code",
   "execution_count": null,
   "metadata": {},
   "outputs": [],
   "source": [
    "df = pd.DataFrame(data, columns=['Link', 'Volume Text'])\n",
    "df.to_csv(\"web_scraped_humanist_listserv.csv\", index=False)\n",
    "print(df.head())"
   ]
  }
 ],
 "metadata": {
  "language_info": {
   "name": "python"
  }
 },
 "nbformat": 4,
 "nbformat_minor": 2
}
