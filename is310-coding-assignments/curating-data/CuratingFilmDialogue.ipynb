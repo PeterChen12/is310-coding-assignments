{
 "cells": [
  {
   "cell_type": "code",
   "execution_count": null,
   "metadata": {},
   "outputs": [],
   "source": [
    "import pandas as pd"
   ]
  },
  {
   "cell_type": "code",
   "execution_count": null,
   "metadata": {},
   "outputs": [],
   "source": [
    "characterlist_url = 'https://raw.githubusercontent.com/matthewfdaniels/scripts/graphs/character_list5.csv'\n",
    "character_mapping_url = 'https://raw.githubusercontent.com/matthewfdaniels/scripts/graphs/character_mapping.csv'\n",
    "meta_data_url = 'https://raw.githubusercontent.com/matthewfdaniels/scripts/graphs/meta_data7.csv'"
   ]
  },
  {
   "cell_type": "code",
   "execution_count": null,
   "metadata": {},
   "outputs": [],
   "source": [
    "characterlist = pd.read_csv(characterlist_url)\n",
    "character_mapping = pd.read_csv(character_mapping_url)\n",
    "meta_data = pd.read_csv(meta_data_url)\n",
    "\n",
    "print(characterlist.head())\n",
    "print(character_mapping.head())\n",
    "print(meta_data.head())"
   ]
  },
  {
   "cell_type": "code",
   "execution_count": null,
   "metadata": {},
   "outputs": [],
   "source": [
    "yearly_stats = meta_data.groupby('year').describe()\n",
    "\n",
    "print(yearly_stats)"
   ]
  },
  {
   "cell_type": "code",
   "execution_count": null,
   "metadata": {},
   "outputs": [],
   "source": [
    "if 'word_count' in meta_data.columns:\n",
    "    dialogue_per_year = meta_data.groupby('year')['word_count'].sum()\n",
    "    dialogue_per_year.plot()"
   ]
  },
  {
   "cell_type": "code",
   "execution_count": null,
   "metadata": {},
   "outputs": [],
   "source": [
    "if 'gross' in meta_data.columns and 'word_count' in meta_data.columns:\n",
    "    meta_data.plot(x='gross', y='word_count', kind='scatter')\n",
    "    correlation = meta_data[['gross', 'word_count']].corr()\n",
    "    print(correlation)"
   ]
  }
 ],
 "metadata": {
  "language_info": {
   "name": "python"
  }
 },
 "nbformat": 4,
 "nbformat_minor": 2
}
